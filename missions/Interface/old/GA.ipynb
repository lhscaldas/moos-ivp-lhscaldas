{
 "cells": [
  {
   "cell_type": "code",
   "execution_count": 4,
   "source": [
    "import GeneticAlgorithm as GA\n",
    "import numpy as np"
   ],
   "outputs": [],
   "metadata": {}
  },
  {
   "cell_type": "code",
   "execution_count": 91,
   "source": [
    "# initial and final restriction\r\n",
    "def beginend(x):\r\n",
    "    begin=(2,0)\r\n",
    "    ib,jb = begin\r\n",
    "    end=(0,2)\r\n",
    "    ie,je = end\r\n",
    "    x_mat=np.array(x).reshape((3,3))\r\n",
    "    x_mat[ib,jb]=1\r\n",
    "    x_mat[ie,je]=1\r\n",
    "    return x_mat.reshape((9,)).tolist()\r\n",
    "\r\n",
    "# grounding restriction\r\n",
    "def grouding(x):\r\n",
    "    restrictions = [(2,2)]\r\n",
    "    x_mat = np.array(x).reshape((3,3))\r\n",
    "    n = 0\r\n",
    "    for restriction in restrictions:\r\n",
    "        i = restriction[0]\r\n",
    "        j = restriction[1]\r\n",
    "        if x_mat[i,j]==1:\r\n",
    "            n+=1\r\n",
    "    return n\r\n",
    "\r\n",
    "# continuity restriction\r\n",
    "def path_check(x):\r\n",
    "    begin=(2,0)\r\n",
    "    end=(0,2)\r\n",
    "    point=begin\r\n",
    "    continuo = True\r\n",
    "\r\n",
    "    while(continuo):\r\n",
    "        j=point[0]\r\n",
    "        i=point[1]\r\n",
    "        try:\r\n",
    "            if x[j-1][i+1]==1:\r\n",
    "                point=(j-1,i+1)\r\n",
    "            elif x[j-1][i]==1:\r\n",
    "                point=(j-1,i)\r\n",
    "            elif x[j][i+1]==1:\r\n",
    "                point=(j,i+1)\r\n",
    "            else:\r\n",
    "                continuo = False\r\n",
    "        except:\r\n",
    "            try:\r\n",
    "                if x[j-1][i]==1:\r\n",
    "                    point=(j-1,i)\r\n",
    "                elif x[j][i+1]==1:\r\n",
    "                    point=(j,i+1)\r\n",
    "                else:\r\n",
    "                    continuo = False\r\n",
    "            except:\r\n",
    "                try:\r\n",
    "                    if x[j][i+1]==1:\r\n",
    "                        point=(j,i+1)\r\n",
    "                    else:\r\n",
    "                        continuo = False\r\n",
    "                except:\r\n",
    "                    continuo = False\r\n",
    "        if point == end:\r\n",
    "            return True\r\n",
    "    return continuo\r\n",
    "\r\n",
    "# objective function\r\n",
    "def objective(x):\r\n",
    "    x = beginend(x)\r\n",
    "    F = sum(x)#+10*grouding(x)\r\n",
    "    if not path_check(x):\r\n",
    "        F += 10\r\n",
    "    return F"
   ],
   "outputs": [],
   "metadata": {}
  },
  {
   "cell_type": "code",
   "execution_count": 98,
   "source": [
    "# define the total iterations\r\n",
    "n_iter = 1000\r\n",
    "# bits\r\n",
    "n_bits = 9\r\n",
    "# define the population size\r\n",
    "n_pop = 100\r\n",
    "# crossover rate\r\n",
    "r_cross = 0.9\r\n",
    "# mutation rate\r\n",
    "r_mut = 0.5 / float(n_bits)\r\n",
    "# perform the genetic algorithm search\r\n",
    "best, score = GA.genetic_algorithm(objective, n_bits, n_iter, n_pop, r_cross, r_mut)\r\n",
    "print('Done!')\r\n",
    "x=beginend(best)\r\n",
    "print((np.array(x).reshape((3,3)), score))"
   ],
   "outputs": [
    {
     "output_type": "stream",
     "name": "stdout",
     "text": [
      "Done!\n",
      "(array([[0, 0, 1],\n",
      "       [0, 0, 0],\n",
      "       [1, 0, 0]]), 12)\n"
     ]
    }
   ],
   "metadata": {}
  }
 ],
 "metadata": {
  "orig_nbformat": 4,
  "language_info": {
   "name": "python",
   "version": "3.6.8",
   "mimetype": "text/x-python",
   "codemirror_mode": {
    "name": "ipython",
    "version": 3
   },
   "pygments_lexer": "ipython3",
   "nbconvert_exporter": "python",
   "file_extension": ".py"
  },
  "kernelspec": {
   "name": "python3",
   "display_name": "Python 3.6.8 64-bit"
  },
  "interpreter": {
   "hash": "e7c37ba80a6e54a3d63188245ab5de6a3e0d381993bcb1990a7020536fc2299e"
  }
 },
 "nbformat": 4,
 "nbformat_minor": 2
}