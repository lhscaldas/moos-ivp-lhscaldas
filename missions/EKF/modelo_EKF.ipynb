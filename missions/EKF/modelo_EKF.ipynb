{
 "cells": [
  {
   "cell_type": "markdown",
   "metadata": {},
   "source": [
    "$\\eta=[u,v,r,x,y,\\psi]$\n",
    "\n",
    "$ \\begin{cases} \\dot{u} = \\dfrac{-d_{11}u|u|+m_{22}rv}{m_{11}} + \\dfrac{1}{m_{11}}\\tau_u \\\\\n",
    "\\dot{v} = \\dfrac{-d_{22}v|v|-m_{11}ru}{m_{22}} + \\dfrac{1}{m_{22}}\\tau_v\\\\\n",
    "\\dot{r} = \\dfrac{-d_{33}r|r|+(m_{11}-m_{22})uv}{m_{33}} + \\dfrac{1}{m_{33}}\\tau_r  \\\\\n",
    "\\dot{x} = u \\cos \\psi - v \\sin \\psi \\\\\n",
    "\\dot{y} = u \\sin \\psi + v \\cos \\psi \\\\\n",
    "\\dot{\\psi} = r \\\\\n",
    "\\end{cases}$"
   ]
  },
  {
   "cell_type": "markdown",
   "metadata": {},
   "source": [
    "$\\eta_{k+1} = \\eta_k + \\left\\{\\begin{array}{c} \\dfrac{-d_{11}u|u|+m_{22}rv}{m_{11}} + \\dfrac{1}{m_{11}}\\tau_u \\\\ \\dfrac{-d_{22}v|v|-m_{11}ru}{m_{22}} + \\dfrac{1}{m_{22}} \\tau_v \\\\ \\dfrac{-d_{33}r|r|+(m_{11}-m_{22})uv}{m_{33}} + \\dfrac{1}{m_{33}}\\tau_r \\\\  u \\cos \\psi - v \\sin \\psi \\\\ u \\sin \\psi + v \\cos \\psi \\\\ r \\end{array}\\right\\}\\Delta t + w_k$\n",
    "\n",
    "onde $w_k$ é o ruído de processo para cada estado."
   ]
  },
  {
   "cell_type": "markdown",
   "metadata": {},
   "source": [
    "$F(\\eta,\\tau) = \\eta_k + \\left\\{\\begin{array}{c} \\dfrac{-d_{11}u|u|+m_{22}rv}{m_{11}} + \\dfrac{1}{m_{11}}\\tau_u \\\\ \\dfrac{-d_{22}v|v|-m_{11}ru}{m_{22}} + \\dfrac{1}{m_{22}} \\tau_v \\\\ \\dfrac{-d_{33}r|r|+(m_{11}-m_{22})uv}{m_{33}} + \\dfrac{1}{m_{33}}\\tau_r \\\\  u \\cos \\psi - v \\sin \\psi \\\\ u \\sin \\psi + v \\cos \\psi \\\\ r \\end{array}\\right\\}\\Delta t$"
   ]
  },
  {
   "cell_type": "markdown",
   "metadata": {},
   "source": [
    "$A_k=\\nabla_{\\eta_k} F= I_{6x6} + \\left\\{\\begin{array}{cccccc} \n",
    "-\\dfrac{2d_{11}u}{m11} & \\dfrac{m_{22}r}{m11} &  \\dfrac{m_{22}v}{m11} & 0 & 0 & 0   \\\\ \n",
    "-\\dfrac{m_{11}r}{m22}  & -\\dfrac{2d_{22}v}{m22}  &  -\\dfrac{m_{11}u}{m22} & 0 & 0 & 0 \\\\\n",
    "\\dfrac{(m_{11}-m_{22})v}{m33} & \\dfrac{(m_{11}-m_{22})u}{m33} & -\\dfrac{2d_{33}r}{m22} & 0 & 0 & 0 \\\\\n",
    "\\cos \\psi & -\\sin \\psi & 0 & 0 & 0 & -u \\sin \\psi - v \\cos \\psi \\\\\n",
    "\\sin \\psi & \\cos \\psi & 0 & 0 & 0 & u \\cos \\psi - v \\sin\\psi \\\\\n",
    "0 & 0 & 1 & 0 & 0 & 0 \n",
    "\\end{array}\\right\\}\\Delta t$"
   ]
  },
  {
   "cell_type": "markdown",
   "metadata": {},
   "source": [
    "$z_k = \\left\\{\\begin{array}{c} u_k \\\\ u_k \\\\ u_k \\\\ x_k \\\\ x_k \\\\ y_k \\\\ y_k \\\\ \\psi_k \\\\ \\psi_k \\end{array}\\right\\} +  \\left\\{\\begin{array}{c} e_{gps, speed}\\\\ e_{dvl, speed}\\\\ e_{imu, speed} \\\\ e_{gps, pos} \\\\ e_{imu, pos} \\\\ e_{gps, pos}\\\\ e_{imu, pos} \\\\ e_{gyro, hdg} \\\\ e_{imu, hdg}\\end{array}\\right\\}$"
   ]
  },
  {
   "cell_type": "markdown",
   "metadata": {},
   "source": [
    "$G(\\eta_k) = \\left\\{\\begin{array}{c} u_k \\\\ u_k \\\\ u_k \\\\ x_k \\\\ x_k \\\\ y_k \\\\ y_k \\\\ \\psi_k \\\\ \\psi_k \\end{array}\\right\\}$"
   ]
  },
  {
   "cell_type": "markdown",
   "metadata": {},
   "source": [
    "$C_k=\\nabla_{\\eta_k} G = \\left[\\begin{array}{cccccc} \n",
    "1 & 0 & 0 & 0 & 0 & 0 \\\\\n",
    "1 & 0 & 0 & 0 & 0 & 0 \\\\\n",
    "1 & 0 & 0 & 0 & 0 & 0 \\\\\n",
    "0 & 0 & 0 & 1 & 0 & 0 \\\\\n",
    "0 & 0 & 0 & 1 & 0 & 0 \\\\\n",
    "0 & 0 & 0 & 0 & 1 & 0 \\\\\n",
    "0 & 0 & 0 & 0 & 1 & 0 \\\\\n",
    "0 & 0 & 0 & 0 & 0 & 1 \\\\\n",
    "0 & 0 & 0 & 0 & 0 & 1 \\\\\n",
    "\\end{array}\\right]$"
   ]
  },
  {
   "cell_type": "markdown",
   "metadata": {},
   "source": [
    "$Q = 10^5 I_{6x6}$\n",
    "\n",
    "$R = diag([R_{gps, speed},R_{dvl, speed},R_{imu, speed},R_{gps, pos},R_{imu, pos},R_{gps, pos},R_{imu, pos},R_{gyro, hdg},R_{imu, hdg}])$\n",
    "\n",
    "$P = I_{6x6}$"
   ]
  },
  {
   "cell_type": "markdown",
   "metadata": {},
   "source": [
    "Predição:\n",
    "$\\begin{cases}\n",
    "\\bar{\\hat{\\eta}}_{k+1} = F(\\hat{\\eta}_k,{\\tau})\\\\\n",
    "\\bar{P}_{k+1} = A_kP_kA_k^T + Q\n",
    "\\end{cases}$\n",
    "\n",
    "$\\begin{cases}\n",
    "K_k = \\bar{P}_{k+1}C_k^T(C_k\\bar{P}_{k+1}C_k^T + R)^{-1}\\\\\n",
    "\\hat{\\eta}_{k+1} = \\bar{\\hat{\\eta}}_{k+1}  + K_k(z_k+G(\\bar{\\hat{\\eta}}_{k+1})) \\\\\n",
    "P_{k+1} = (I-K_kC_k)\\bar{P}_{k+1} \n",
    "\\end{cases}$\n"
   ]
  }
 ],
 "metadata": {
  "interpreter": {
   "hash": "d5cf23e4ca32002646b1e8f36f1fa42df062ae2fa68db43176baaacb98d03cb1"
  },
  "kernelspec": {
   "display_name": "Python 3.8.8 64-bit ('base': conda)",
   "language": "python",
   "name": "python3"
  },
  "language_info": {
   "codemirror_mode": {
    "name": "ipython",
    "version": 3
   },
   "file_extension": ".py",
   "mimetype": "text/x-python",
   "name": "python",
   "nbconvert_exporter": "python",
   "pygments_lexer": "ipython3",
   "version": "3.8.8"
  },
  "orig_nbformat": 4
 },
 "nbformat": 4,
 "nbformat_minor": 2
}
