{
 "cells": [
  {
   "cell_type": "markdown",
   "metadata": {},
   "source": [
    "A dinâmica simplificada de um navio se movendo em um plano é dada por:\n",
    "\n",
    "$$ M \\dot{\\nu} + C(\\nu)\\nu + D\\nu|\\nu|= \\tau $$\n",
    "\n",
    "A matriz de massa é $ M=\\left[\\begin{array}{ccc}m_{11}    & 0 & 0 \\\\ 0     & m_{22} & 0 \\\\ 0 & 0 & m_{33}\\end{array}\\right]$, onde $m_{11}$ e $m_{22}$ são as somas da massa do navio com as massas adicionais geradas pelo deslocamento de água que o navio causa em cada eixo do plano e $m_{33}$ o momento de inércia do navio somado com o momento de inércia adicional.\n",
    "\n",
    "O vetor de velocidades é  $\\nu=[u,v,r]^T$, onde $u$ é a velocidade longitudinal, $v$ a velocidade transversal, $r$ a velocidade angular do navio.\n",
    "\n",
    "A matriz de Coriolis é $C=\\left[\\begin{array}{ccc}0 & 0 & -m_{22}v \\\\ 0     & 0 & m_{11}u\\\\ m_{22}v  & -m_{11}u & 0\\end{array}\\right]$.\n",
    "\n",
    "O vetor de entradas é $\\tau=\\left\\{\\begin{array}{c}\\tau_u \\\\ \\tau_v \\\\ \\tau_r\\end{array}\\right\\}$, onde cada componente é a força dos atuadores em um grau de liberdade.\n",
    "\n",
    "A matriz de amortecimento hidrodinâmico não-potêncial é $D=\\left[\\begin{array}{ccc}d_{11} & 0 & 0 \\\\ 0     & d_{22} & 0 \\\\ 0 & 0 & d_{33} \\end{array}\\right]$. "
   ]
  },
  {
   "cell_type": "code",
   "execution_count": 17,
   "metadata": {},
   "outputs": [
    {
     "data": {
      "text/plain": [
       "{ud: Tu/m11 - d11*u*Abs(u)/m11 + m22*r*v/m11,\n",
       " vd: Tv/m22 - d22*v*Abs(v)/m22 - m11*r*u/m22,\n",
       " rd: Tr/m33 - d33*r*Abs(r)/m33 + m11*u*v/m33 - m22*u*v/m33}"
      ]
     },
     "execution_count": 17,
     "metadata": {},
     "output_type": "execute_result"
    }
   ],
   "source": [
    "import sympy as sp\n",
    "m, Iz, m11, m22, m33, d11, d22, d33, r, v, u, Tu, Tv, Tr = sp.symbols(\"m Iz m11 m22 m33 d11 d22 d33 r v u Tu Tv Tr\")\n",
    "ud, vd, rd = sp.symbols(\"ud vd rd\")\n",
    "M = sp.Matrix([[m11,0,0],[0,m22,0],[0,0,m33]])\n",
    "C = sp.Matrix([[0,0,-m22*v],[0,0,m11*u],[m22*v,-m11*u,0]])\n",
    "D = sp.Matrix([[d11*abs(u),0,0],[0,d22*abs(v),0],[0,0,d33*abs(r)]])\n",
    "nu = sp.Matrix([[u],[v],[r]])\n",
    "nu_d = sp.Matrix([[ud],[vd],[rd]])\n",
    "T = sp.Matrix([[Tu],[Tv],[Tr]])\n",
    "sp.solve(M@nu_d+C@nu+D@nu-T,(ud,vd,rd))"
   ]
  },
  {
   "cell_type": "markdown",
   "metadata": {},
   "source": [
    "$\\begin{cases} \\dot{u} = \\dfrac{-d_{11}u|u|+m_{22}rv}{m_{11}} + \\dfrac{1}{m_{11}}\\tau_u  \\\\ \\\\\n",
    "\\dot{v} = \\dfrac{-d_{22}v|v|-m_{11}ru}{m_{22}} + \\dfrac{1}{m_{22}}\\tau_v  \\\\ \\\\\n",
    "\\dot{r} = \\dfrac{-d_{33}r|r|+(m_{11}-m_{22})uv}{m_{33}} + \\dfrac{1}{m_{33}}\\tau_r  \\\\\n",
    "\\end{cases}$"
   ]
  },
  {
   "cell_type": "markdown",
   "metadata": {},
   "source": [
    "Seja o vetor de estados $\\eta=[u,v,r,x,y,\\psi]$ composto pelas velocidades lineares e angular em coordenadas do corpo e posições lineares ($x$ e $y$) e angular ($\\psi$) em coordenadas locais. A dinâmica do sistema é dada por\n",
    "\n",
    "$ \\begin{cases} \\dot{u} = \\dfrac{-d_{11}u|u|+m_{22}rv}{m_{11}} + \\dfrac{1}{m_{11}}\\tau_u \\\\\n",
    "\\dot{v} = \\dfrac{-d_{22}v|v|-m_{11}ru}{m_{22}} + \\dfrac{1}{m_{22}}\\tau_v\\\\\n",
    "\\dot{r} = \\dfrac{-d_{33}r|r|+(m_{11}-m_{22})uv}{m_{33}} + \\dfrac{1}{m_{33}}\\tau_r  \\\\\n",
    "\\dot{x} = u \\cos \\psi - v \\sin \\psi \\\\\n",
    "\\dot{y} = u \\sin \\psi + v \\cos \\psi \\\\\n",
    "\\dot{\\psi} = r \\\\\n",
    "\\end{cases}$\n",
    "\n",
    "\n",
    "\n",
    "\n",
    "\n"
   ]
  },
  {
   "cell_type": "code",
   "execution_count": null,
   "metadata": {},
   "outputs": [],
   "source": [
    "h = 1.65 # altura\n",
    "B = 3.379 # boca\n",
    "T = 0.956 # calado\n",
    "L = 13.095 # LOA\n",
    "rho=1025e-3 # densidade da água do mar\n",
    "\n",
    "C2_90  = 3.27607\n",
    "C1_180 = 0.10900\n",
    "\n",
    "m11=18.79+1.01115\n",
    "m22=18.79+10.48726\n",
    "m33=240.19+90.95633\n",
    "d11=rho*B*T*C1_180/2\n",
    "d22=rho*L*T*C2_90/2\n",
    "d33=rho*L**4*T*C2_90/32\n",
    "\n",
    "print(f\"m11 = {m11}\")\n",
    "print(f\"m22 = {m22}\")\n",
    "print(f\"m33 = {m33}\")\n",
    "print(f\"d11 = {d11}\")\n",
    "print(f\"d22 = {d22}\")\n",
    "print(f\"d33 = {d33}\")\n"
   ]
  }
 ],
 "metadata": {
  "interpreter": {
   "hash": "2cd3d542df8e38553f3c0cf2c6302d811ad82fd786bd84cd67c07374a832f7ca"
  },
  "kernelspec": {
   "display_name": "Python 3",
   "language": "python",
   "name": "python3"
  },
  "language_info": {
   "codemirror_mode": {
    "name": "ipython",
    "version": 3
   },
   "file_extension": ".py",
   "mimetype": "text/x-python",
   "name": "python",
   "nbconvert_exporter": "python",
   "pygments_lexer": "ipython3",
   "version": "3.8.8"
  }
 },
 "nbformat": 4,
 "nbformat_minor": 2
}
