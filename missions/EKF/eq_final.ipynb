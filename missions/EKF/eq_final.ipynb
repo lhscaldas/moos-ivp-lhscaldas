{
 "cells": [
  {
   "cell_type": "markdown",
   "metadata": {},
   "source": [
    "# Modelo do Navio\n",
    "\n",
    "$\\eta=[u,v,r,x,y,\\psi]$\n",
    "\n",
    "$ \\begin{cases} \\dot{u} = \\dfrac{-d_{11}u|u|+m_{22}rv}{m_{11}} + \\dfrac{1}{m_{11}}\\tau_u \\\\\n",
    "\\dot{v} = \\dfrac{-d_{22}v|v|-m_{11}ru}{m_{22}} + \\dfrac{1}{m_{22}}\\tau_v\\\\\n",
    "\\dot{r} = \\dfrac{-d_{33}r|r|+(m_{11}-m_{22})uv}{m_{33}} + \\dfrac{1}{m_{33}}\\tau_r  \\\\\n",
    "\\dot{x} = u \\cos \\psi - v \\sin \\psi \\\\\n",
    "\\dot{y} = u \\sin \\psi + v \\cos \\psi \\\\\n",
    "\\dot{\\psi} = r \\\\\n",
    "\\end{cases}$\n",
    "\n",
    "\n",
    "\n",
    "\n",
    "\n"
   ]
  }
 ],
 "metadata": {
  "interpreter": {
   "hash": "2cd3d542df8e38553f3c0cf2c6302d811ad82fd786bd84cd67c07374a832f7ca"
  },
  "kernelspec": {
   "display_name": "Python 3",
   "language": "python",
   "name": "python3"
  },
  "language_info": {
   "codemirror_mode": {
    "name": "ipython",
    "version": 3
   },
   "file_extension": ".py",
   "mimetype": "text/x-python",
   "name": "python",
   "nbconvert_exporter": "python",
   "pygments_lexer": "ipython3",
   "version": "3.8.8"
  }
 },
 "nbformat": 4,
 "nbformat_minor": 2
}
