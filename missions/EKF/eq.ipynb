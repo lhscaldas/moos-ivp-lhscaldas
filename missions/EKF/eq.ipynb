{
 "cells": [
  {
   "cell_type": "code",
   "execution_count": null,
   "metadata": {},
   "outputs": [],
   "source": [
    "x=2\n",
    "print(x)"
   ]
  }
 ],
 "metadata": {
  "interpreter": {
   "hash": "2cd3d542df8e38553f3c0cf2c6302d811ad82fd786bd84cd67c07374a832f7ca"
  },
  "kernelspec": {
   "display_name": "Python 3.6.13 64-bit ('tcc': conda)",
   "language": "python",
   "name": "python3"
  },
  "language_info": {
   "name": "python",
   "version": "3.6.13"
  },
  "orig_nbformat": 4
 },
 "nbformat": 4,
 "nbformat_minor": 2
}
