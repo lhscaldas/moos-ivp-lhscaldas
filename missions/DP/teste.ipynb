{
 "cells": [
  {
   "cell_type": "code",
   "execution_count": null,
   "metadata": {},
   "outputs": [
    {
     "ename": "ModuleNotFoundError",
     "evalue": "No module named 'pydyna'",
     "output_type": "error",
     "traceback": [
      "\u001b[0;31m---------------------------------------------------------------------------\u001b[0m",
      "\u001b[0;31mModuleNotFoundError\u001b[0m                       Traceback (most recent call last)",
      "\u001b[0;32m/tmp/ipykernel_14061/39082236.py\u001b[0m in \u001b[0;36m<module>\u001b[0;34m\u001b[0m\n\u001b[0;32m----> 1\u001b[0;31m \u001b[0;32mimport\u001b[0m \u001b[0mpydyna\u001b[0m\u001b[0;34m\u001b[0m\u001b[0;34m\u001b[0m\u001b[0m\n\u001b[0m\u001b[1;32m      2\u001b[0m \u001b[0;32mimport\u001b[0m \u001b[0minhousedp\u001b[0m\u001b[0;34m\u001b[0m\u001b[0;34m\u001b[0m\u001b[0m\n\u001b[1;32m      3\u001b[0m \u001b[0;32mimport\u001b[0m \u001b[0mmath\u001b[0m\u001b[0;34m\u001b[0m\u001b[0;34m\u001b[0m\u001b[0m\n\u001b[1;32m      4\u001b[0m \u001b[0;32mimport\u001b[0m \u001b[0mmath\u001b[0m\u001b[0;34m\u001b[0m\u001b[0;34m\u001b[0m\u001b[0m\n\u001b[1;32m      5\u001b[0m \u001b[0;32mimport\u001b[0m \u001b[0mmatplotlib\u001b[0m\u001b[0;34m.\u001b[0m\u001b[0mpyplot\u001b[0m \u001b[0;32mas\u001b[0m \u001b[0mplt\u001b[0m\u001b[0;34m\u001b[0m\u001b[0;34m\u001b[0m\u001b[0m\n",
      "\u001b[0;31mModuleNotFoundError\u001b[0m: No module named 'pydyna'"
     ]
    }
   ],
   "source": [
    "import pydyna\n",
    "import inhousedp\n",
    "import math\n",
    "import math\n",
    "import matplotlib.pyplot as plt\n",
    "import matplotlib.path as mpath\n",
    "import matplotlib.patches as mpatches\n",
    "import pandas as pd"
   ]
  },
  {
   "cell_type": "code",
   "execution_count": null,
   "metadata": {},
   "outputs": [
    {
     "name": "stdout",
     "output_type": "stream",
     "text": [
      "[ 0.   0.  -6.6]\n",
      "[0. 0. 0.]\n",
      "['14', '15', '4', '5']\n"
     ]
    }
   ],
   "source": [
    "# my_dyna = pydyna.create_simulation(\"Maersk Handler.p3d\")\n",
    "my_dyna = pydyna.create_simulation(\"PSV4500.p3d\")\n",
    "my_dyna.reset()\n",
    "# my_vessel = my_dyna.vessels['42']\n",
    "my_vessel = my_dyna.vessels['207']\n",
    "my_thrusters = list(my_vessel.thrusters)\n",
    "my_vessel.linear_position = [0.0, 0.0, -6.6]\n",
    "my_vessel.angular_position = [0.0, 0.0, 0.0]\n",
    "print(my_vessel.linear_position)\n",
    "print(my_vessel.angular_position)\n",
    "print(my_thrusters)\n",
    "# my_dp = inhousedp.InhouseDP(\"/home/lhscaldas/moos-ivp-lhscaldas/missions/DP/Maersk Handler.p3d\", 42)\n",
    "my_dp = inhousedp.InhouseDP(\"/home/lhscaldas/moos-ivp-lhscaldas/missions/DP/PSV4500.p3d\", 207)"
   ]
  },
  {
   "cell_type": "code",
   "execution_count": null,
   "metadata": {},
   "outputs": [],
   "source": [
    "my_dyna.reset()\n",
    "serie_t_2 = []\n",
    "serie_x_2 = []\n",
    "serie_y_2 = []\n",
    "serie_yaw_2 = []\n",
    "# my_dp.setgains(inhousedp.Dof.SURGE.value, 5.0, 0.1, 900.0)\n",
    "my_dp.setreference([10.0, 0.0, 0.0])"
   ]
  },
  {
   "cell_type": "code",
   "execution_count": null,
   "metadata": {},
   "outputs": [],
   "source": [
    "for cycle in range(6000):\n",
    "    serie_t_2.append(my_dyna.get_time_step() * my_dyna.get_dt())\n",
    "    serie_x_2.append(my_vessel.linear_position[0])\n",
    "    serie_y_2.append(my_vessel.linear_position[1])\n",
    "    serie_yaw_2.append(my_vessel.angular_position[2])\n",
    "\n",
    "    my_var = my_dp.dostep([\n",
    "        my_vessel.linear_position[0],\n",
    "        my_vessel.linear_position[1],\n",
    "        my_vessel.angular_position[2]\n",
    "    ])\n",
    "    for one_thr in my_thrusters:\n",
    "        my_vessel.thrusters[one_thr].dem_rotation = my_var[one_thr].getDemandedRps()\n",
    "        my_vessel.thrusters[one_thr].dem_pitch = my_var[one_thr].getDemandedPod()\n",
    "        my_vessel.thrusters[one_thr].dem_angle = my_var[one_thr].getDemandedAzimuth()\n",
    "    \n",
    "    my_dyna.step()\n"
   ]
  },
  {
   "cell_type": "code",
   "execution_count": null,
   "metadata": {},
   "outputs": [
    {
     "data": {
      "image/png": "[encoded data removed]",
      "text/plain": [
       "<Figure size 432x288 with 1 Axes>"
      ]
     },
     "metadata": {
      "needs_background": "light"
     },
     "output_type": "display_data"
    }
   ],
   "source": [
    "plt.figure()\n",
    "plt.plot(serie_x_2,serie_y_2,\"--\")\n",
    "plt.scatter(serie_x_2[0],serie_y_2[0],s=200,c='red',label=\"início\")\n",
    "plt.scatter(serie_x_2[-1],serie_y_2[-1],s=200,c='green',label=\"final\")\n",
    "plt.legend()\n",
    "plt.xlabel(\"x [m]\")\n",
    "plt.ylabel(\"y [m]\")\n",
    "plt.show()"
   ]
  },
  {
   "cell_type": "code",
   "execution_count": null,
   "metadata": {},
   "outputs": [],
   "source": [
    "# plt.rcParams[\"figure.figsize\"] = (16,8)\n",
    "# data = pd.DataFrame({'t': serie_t_2, 'px': serie_x_2, 'py': serie_y_2, 'yaw': serie_yaw_2})\n",
    "# fig, (ax1) = plt.subplots(1, 1)\n",
    "# ax1.set_aspect('equal')\n",
    "\n",
    "# Path = mpath.Path\n",
    "# path_data = [\n",
    "#     (Path.MOVETO, [0.0, -0.5]),\n",
    "#     (Path.LINETO, [-0.35, -0.5]),\n",
    "#     (Path.LINETO, [-0.5, -0.4]),\n",
    "#     (Path.LINETO, [-0.5, -0.35]),\n",
    "#     (Path.LINETO, [-0.5, 0.3]),\n",
    "#     (Path.CURVE4, [-0.5, 0.5]),\n",
    "#     (Path.CURVE4, [0.5, 0.5]),\n",
    "#     (Path.LINETO, [0.5, 0.3]),\n",
    "#     (Path.LINETO, [0.5, 0.3]),\n",
    "#     (Path.LINETO, [0.5, -0.35]),\n",
    "#     (Path.LINETO, [0.5, -0.4]),\n",
    "#     (Path.LINETO, [0.35, -0.5]),\n",
    "#     (Path.CLOSEPOLY, [0.0, -0.5])\n",
    "# ]\n",
    "\n",
    "# codes, verts = zip(*path_data)\n",
    "# ship = [[x[0] * my_vessel.breadth, x[1] * my_vessel.length] for x in verts]\n",
    "\n",
    "# for key, t in enumerate(data['t']):\n",
    "#     if (key % 100) == 0:\n",
    "#         alpha = data['yaw'][key] - math.pi/2\n",
    "#         item = [[x[0] * math.cos(alpha) - x[1] * math.sin(alpha), \n",
    "#             x[0] * math.sin(alpha) + x[1] * math.cos(alpha)] for x in ship]\n",
    "#         item = [[x[0] + data['px'][key], x[1] + data['py'][key]] for x in item]\n",
    "\n",
    "#         path = mpath.Path(item, codes)\n",
    "#         patch = mpatches.PathPatch(path, facecolor='gray', alpha=0.4)\n",
    "#         ax1.add_patch(patch)\n",
    "\n",
    "# ax1.plot(data['px'], data['py'])\n",
    "\n",
    "# ax1.set_title(\"Position\")\n",
    "# ax1.set_xlabel(\"X (m)\")\n",
    "# ax1.set_ylabel(\"Y (m)\")\n",
    "\n",
    "# ax1.set_ylim(data['py'].min() - my_vessel.length, data['py'].max() + my_vessel.length)\n",
    "# ax1.set_xlim(data['px'].min() - my_vessel.length, data['px'].max() + my_vessel.length)\n",
    "\n",
    "# plt.show()"
   ]
  }
 ],
 "metadata": {
  "interpreter": {
   "hash": "2cd3d542df8e38553f3c0cf2c6302d811ad82fd786bd84cd67c07374a832f7ca"
  },
  "kernelspec": {
   "display_name": "Python 3 (ipykernel)",
   "language": "python",
   "name": "python3"
  },
  "language_info": {
   "codemirror_mode": {
    "name": "ipython",
    "version": 3
   },
   "file_extension": ".py",
   "mimetype": "text/x-python",
   "name": "python",
   "nbconvert_exporter": "python",
   "pygments_lexer": "ipython3",
   "version": "3.6.13"
  }
 },
 "nbformat": 4,
 "nbformat_minor": 2
}
