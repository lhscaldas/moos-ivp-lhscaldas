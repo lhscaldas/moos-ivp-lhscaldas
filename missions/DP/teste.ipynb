{
 "cells": [
  {
   "cell_type": "code",
   "execution_count": 26,
   "source": [
    "import pydyna\n",
    "import inhousedp\n",
    "import math\n",
    "import math\n",
    "import matplotlib.pyplot as plt\n",
    "import matplotlib.path as mpath\n",
    "import matplotlib.patches as mpatches\n",
    "import pandas as pd"
   ],
   "outputs": [],
   "metadata": {}
  },
  {
   "cell_type": "code",
   "execution_count": 27,
   "source": [
    "my_dyna = pydyna.create_simulation(\"Maersk Handler.p3d\")\n",
    "my_dyna.reset()\n",
    "my_vessel = my_dyna.vessels['42']\n",
    "my_thrusters = list(my_vessel.thrusters)\n",
    "my_vessel.linear_position = [0.0, 0.0, -6.6]\n",
    "my_vessel.angular_position = [0.0, 0.0, 0.0]\n",
    "print(my_vessel.linear_position)\n",
    "print(my_vessel.angular_position)\n",
    "print(my_thrusters)\n",
    "my_dp = inhousedp.InhouseDP(\"/home/lhscaldas/moos-ivp-lhscaldas/missions/DP/Maersk Handler.p3d\", 42)"
   ],
   "outputs": [
    {
     "output_type": "stream",
     "name": "stdout",
     "text": [
      "[ 0.   0.  -6.6]\n",
      "[0. 0. 0.]\n",
      "['0', '1', '14', '4', '5']\n"
     ]
    }
   ],
   "metadata": {}
  },
  {
   "cell_type": "code",
   "execution_count": 28,
   "source": [
    "my_dyna.reset()\n",
    "serie_t_2 = []\n",
    "serie_x_2 = []\n",
    "serie_y_2 = []\n",
    "serie_yaw_2 = []\n",
    "# my_dp.setgains(inhousedp.Dof.SURGE.value, 5.0, 0.1, 900.0)\n",
    "my_dp.setreference([1.0, 0.0, 0.0])"
   ],
   "outputs": [],
   "metadata": {}
  },
  {
   "cell_type": "code",
   "execution_count": 29,
   "source": [
    "for cycle in range(6000):\n",
    "    serie_t_2.append(my_dyna.get_time_step() * my_dyna.get_dt())\n",
    "    serie_x_2.append(my_vessel.linear_position[0])\n",
    "    serie_y_2.append(my_vessel.linear_position[1])\n",
    "    serie_yaw_2.append(my_vessel.angular_position[2])\n",
    "\n",
    "    my_var = my_dp.dostep([\n",
    "        my_vessel.linear_position[0],\n",
    "        my_vessel.linear_position[1],\n",
    "        my_vessel.angular_position[2]\n",
    "    ])\n",
    "    for one_thr in my_thrusters:\n",
    "        my_vessel.thrusters[one_thr].dem_rotation = my_var[one_thr].getDemandedRps()\n",
    "        my_vessel.thrusters[one_thr].dem_pitch = my_var[one_thr].getDemandedPod()\n",
    "        my_vessel.thrusters[one_thr].dem_angle = my_var[one_thr].getDemandedAzimuth()\n",
    "    \n",
    "    my_dyna.step()\n"
   ],
   "outputs": [],
   "metadata": {}
  },
  {
   "cell_type": "code",
   "execution_count": 32,
   "source": [
    "plt.figure()\n",
    "plt.plot(serie_x_2,serie_y_2,\"--\")\n",
    "plt.scatter(serie_x_2[0],serie_y_2[0],s=200,c='red',label=\"início\")\n",
    "plt.scatter(serie_x_2[-1],serie_y_2[-1],s=200,c='green',label=\"final\")\n",
    "plt.legend()\n",
    "plt.xlabel(\"x [m]\")\n",
    "plt.ylabel(\"y [m]\")\n",
    "plt.show()"
   ],
   "outputs": [
    {
     "output_type": "display_data",
     "data": {
      "text/plain": [
       "<Figure size 432x288 with 1 Axes>"
      ],
      "image/png": "[encoded data removed]"
     },
     "metadata": {
      "needs_background": "light"
     }
    }
   ],
   "metadata": {}
  },
  {
   "cell_type": "code",
   "execution_count": 31,
   "source": [
    "# plt.rcParams[\"figure.figsize\"] = (16,8)\n",
    "# data = pd.DataFrame({'t': serie_t_2, 'px': serie_x_2, 'py': serie_y_2, 'yaw': serie_yaw_2})\n",
    "# fig, (ax1) = plt.subplots(1, 1)\n",
    "# ax1.set_aspect('equal')\n",
    "\n",
    "# Path = mpath.Path\n",
    "# path_data = [\n",
    "#     (Path.MOVETO, [0.0, -0.5]),\n",
    "#     (Path.LINETO, [-0.35, -0.5]),\n",
    "#     (Path.LINETO, [-0.5, -0.4]),\n",
    "#     (Path.LINETO, [-0.5, -0.35]),\n",
    "#     (Path.LINETO, [-0.5, 0.3]),\n",
    "#     (Path.CURVE4, [-0.5, 0.5]),\n",
    "#     (Path.CURVE4, [0.5, 0.5]),\n",
    "#     (Path.LINETO, [0.5, 0.3]),\n",
    "#     (Path.LINETO, [0.5, 0.3]),\n",
    "#     (Path.LINETO, [0.5, -0.35]),\n",
    "#     (Path.LINETO, [0.5, -0.4]),\n",
    "#     (Path.LINETO, [0.35, -0.5]),\n",
    "#     (Path.CLOSEPOLY, [0.0, -0.5])\n",
    "# ]\n",
    "\n",
    "# codes, verts = zip(*path_data)\n",
    "# ship = [[x[0] * my_vessel.breadth, x[1] * my_vessel.length] for x in verts]\n",
    "\n",
    "# for key, t in enumerate(data['t']):\n",
    "#     if (key % 100) == 0:\n",
    "#         alpha = data['yaw'][key] - math.pi/2\n",
    "#         item = [[x[0] * math.cos(alpha) - x[1] * math.sin(alpha), \n",
    "#             x[0] * math.sin(alpha) + x[1] * math.cos(alpha)] for x in ship]\n",
    "#         item = [[x[0] + data['px'][key], x[1] + data['py'][key]] for x in item]\n",
    "\n",
    "#         path = mpath.Path(item, codes)\n",
    "#         patch = mpatches.PathPatch(path, facecolor='gray', alpha=0.4)\n",
    "#         ax1.add_patch(patch)\n",
    "\n",
    "# ax1.plot(data['px'], data['py'])\n",
    "\n",
    "# ax1.set_title(\"Position\")\n",
    "# ax1.set_xlabel(\"X (m)\")\n",
    "# ax1.set_ylabel(\"Y (m)\")\n",
    "\n",
    "# ax1.set_ylim(data['py'].min() - my_vessel.length, data['py'].max() + my_vessel.length)\n",
    "# ax1.set_xlim(data['px'].min() - my_vessel.length, data['px'].max() + my_vessel.length)\n",
    "\n",
    "# plt.show()"
   ],
   "outputs": [],
   "metadata": {}
  }
 ],
 "metadata": {
  "orig_nbformat": 4,
  "language_info": {
   "name": "python",
   "version": "3.6.13",
   "mimetype": "text/x-python",
   "codemirror_mode": {
    "name": "ipython",
    "version": 3
   },
   "pygments_lexer": "ipython3",
   "nbconvert_exporter": "python",
   "file_extension": ".py"
  },
  "kernelspec": {
   "name": "python3",
   "display_name": "Python 3.6.13 64-bit ('tcc': conda)"
  },
  "interpreter": {
   "hash": "d2be7d021edd1e3b1661465c828e10ec0723b34d0f5d164f6e361c9fe780eec2"
  }
 },
 "nbformat": 4,
 "nbformat_minor": 2
}